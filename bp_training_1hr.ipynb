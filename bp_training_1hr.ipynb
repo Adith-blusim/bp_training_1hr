{
  "cells": [
    {
      "cell_type": "markdown",
      "metadata": {
        "id": "view-in-github",
        "colab_type": "text"
      },
      "source": [
        "<a href=\"https://colab.research.google.com/github/Adith-blusim/bp_training_1hr/blob/main/bp_training_1hr.ipynb\" target=\"_parent\"><img src=\"https://colab.research.google.com/assets/colab-badge.svg\" alt=\"Open In Colab\"/></a>"
      ]
    },
    {
      "cell_type": "code",
      "execution_count": null,
      "metadata": {
        "id": "oKmN5xvtcwg1"
      },
      "outputs": [],
      "source": [
        "import pandas as pd\n",
        "import numpy as np\n",
        "from scipy.interpolate import PchipInterpolator\n",
        "try:\n",
        "  from PyEMD import EMD\n",
        "except:\n",
        "  !pip install EMD-signal\n",
        "  from PyEMD import EMD\n",
        "from PyEMD import EEMD\n",
        "import matplotlib.pyplot as plt\n",
        "from scipy.signal import butter, lfilter, hilbert\n",
        "from sklearn.model_selection import train_test_split\n",
        "import tensorflow as tf\n",
        "from tensorflow.keras.models import Sequential\n",
        "from tensorflow.keras.layers import Conv1D, MaxPooling1D, GlobalAveragePooling1D, Flatten, Dense, BatchNormalization\n",
        "import seaborn as sns\n",
        "\n",
        "\n",
        "fs = 490\n",
        "lowcut = 0.5\n",
        "highcut = 6.0\n",
        "\n",
        "def interpolate(arr):\n",
        "    pchip_interpolator = PchipInterpolator(np.arange(len(arr)), arr)\n",
        "    x_interp = np.linspace(0, len(arr) - 1, expected_sps)\n",
        "    y_interp = pchip_interpolator(x_interp)\n",
        "    return y_interp.tolist()\n",
        "\n",
        "def butter_bandpass(lowcut, highcut, fs, order=3):\n",
        "    nyq = 0.5 * fs\n",
        "    low = lowcut / nyq\n",
        "    high = highcut / nyq\n",
        "    b, a = butter(order, [low, high], btype='band')\n",
        "    return b, a\n",
        "def butter_bandpass_filter(data, lowcut, highcut, fs, order=3):\n",
        "    b, a = butter_bandpass(lowcut, highcut, fs, order=order)\n",
        "    y = lfilter(b, a, data)\n",
        "    return y\n",
        "\n",
        "def imf(arr):\n",
        "  _out = []\n",
        "  for i in arr:\n",
        "    _out.append(EMD().emd(i, (np.arange(0, len(i)) / fs))[0])\n",
        "  return _out\n",
        "\n",
        "def inp(arr):\n",
        "  _out = []\n",
        "  for i in imf1c1:\n",
        "    _out.append(np.angle(hilbert(i)))\n",
        "  return _out\n",
        "\n",
        "## 1 - Read data\n",
        "\n",
        "# Mat data\n",
        "rdf = pd.read_csv(\"one_hr_12-32_BP.csv\") # read the raw mat data file - raw df\n",
        "rdf = rdf.dropna()\n",
        "rdf = rdf.reset_index(drop=True) #dropped index needs to be reset\n",
        "\n",
        "# ECG Ground truth data\n",
        "gdf = pd.read_csv(\"roi_data.csv\") #ground df\n",
        "gdf.drop(['ECG'],axis=1,inplace=True) # remove the HR data as it is not needed\n",
        "gdf[['Systolic', 'Diastolic']] = gdf[['Systolic', 'Diastolic']].replace('', np.nan) #replacing empty values with np.nan\n",
        "gdf = gdf.dropna()\n",
        "gdf = gdf.reset_index(drop=True)\n",
        "\n",
        "# print(gdf, rdf)"
      ]
    },
    {
      "cell_type": "code",
      "source": [
        "## 2- Preprocess data - changing to HMS format and setting timestamp as index\n",
        "gdf['Timestamp'] = pd.to_datetime(gdf['Timestamp'], format='%Y-%m-%d %H:%M:%S') # Convert string to datetime format\n",
        "gdf.set_index('Timestamp', inplace=True) #set 'Time' column as index, inplace=true changes original rdf\n",
        "gdf = gdf.resample('T').ffill() # BP is measured every 2 mins but I am making per-second data, so filling BP value seconds-wise, T is minutes, 5T is every 5 minutes\n",
        "gdf.index = gdf.index.strftime('%H:%M') # reduce the datetime format to string - the resample needs to be done when index is in datetime format\n",
        "gdf['Systolic'] = pd.to_numeric(gdf['Systolic'], errors='coerce') # Convert OCR string data to float\n",
        "gdf['Diastolic'] = pd.to_numeric(gdf['Diastolic'], errors='coerce')\n",
        "\n",
        "rdf['Timestamp'] = pd.to_datetime(rdf['Timestamp'], format='%Y-%m-%d %H:%M:%S') # Convert string to datetime format\n",
        "rdf.set_index('Timestamp', inplace=True) #set 'Time' column as index, inplace=true changes original rdf\n",
        "rdf.index = rdf.index.strftime('%H:%M') # reduce the datetime format\n",
        "rdf = rdf.groupby('Timestamp').agg(lambda x: x.tolist()).reset_index() #groups values in each channel with the same timestamp value together\n",
        "rdf.set_index('Timestamp', inplace=True) #was needed as the index was changed to 0,1,2 - have to understand why\n",
        "\n",
        "# print(gdf,rdf)"
      ],
      "metadata": {
        "id": "CPVuYEQuWfXh"
      },
      "execution_count": null,
      "outputs": []
    },
    {
      "cell_type": "code",
      "source": [
        "## 3- Merge\n",
        "merged = pd.merge(rdf, gdf, left_index=True, right_index=True)\n",
        "\n",
        "# print(merged)"
      ],
      "metadata": {
        "id": "2_O8WWk2Kdlo"
      },
      "execution_count": null,
      "outputs": []
    },
    {
      "cell_type": "code",
      "execution_count": null,
      "metadata": {
        "id": "DPBL2DNicwg4",
        "colab": {
          "base_uri": "https://localhost:8080/"
        },
        "outputId": "08eed9ab-5ce4-4f32-a372-fb32de3db3bf"
      },
      "outputs": [
        {
          "output_type": "stream",
          "name": "stdout",
          "text": [
            "29400\n"
          ]
        }
      ],
      "source": [
        "# 4 - Interpolate after merge\n",
        "expected_sps = 0\n",
        "for i in range(5):\n",
        "  expected_sps += len(merged['Channel1'][np.random.randint(0,merged.shape[0])])\n",
        "expected_sps = int(expected_sps/5)\n",
        "print(expected_sps)\n",
        "interpolated = merged[['Channel1','Channel2','Channel3','Channel4']].applymap(interpolate)\n",
        "# print(master)"
      ]
    },
    {
      "cell_type": "code",
      "source": [
        "# 5 - Filtering, IMF - Intrinsic mode function and INP - Instantaneous phase - Butterworth band-pass filter\n",
        "filtered = pd.DataFrame()\n",
        "filtered['buttered_channel1'] = [butter_bandpass_filter(data, lowcut, highcut, fs, order=3) for data in interpolated['Channel1']]\n",
        "filtered['buttered_channel2'] = [butter_bandpass_filter(data, lowcut, highcut, fs, order=3) for data in interpolated['Channel2']]\n",
        "filtered['buttered_channel3'] = [butter_bandpass_filter(data, lowcut, highcut, fs, order=3) for data in interpolated['Channel3']]\n",
        "filtered['buttered_channel4'] = [butter_bandpass_filter(data, lowcut, highcut, fs, order=3) for data in interpolated['Channel4']]\n",
        "\n",
        "imf1c1 = imf(filtered['buttered_channel1'])\n",
        "imf1c2 = imf(filtered['buttered_channel2'])\n",
        "imf1c3 = imf(filtered['buttered_channel3'])\n",
        "imf1c4 = imf(filtered['buttered_channel4'])\n",
        "\n",
        "\n",
        "ins_phase_c1 = inp(imf1c1)\n",
        "ins_phase_c2 = inp(imf1c2)\n",
        "ins_phase_c3 = inp(imf1c3)\n",
        "ins_phase_c4 = inp(imf1c4)"
      ],
      "metadata": {
        "id": "SVGvlfj-rANe"
      },
      "execution_count": null,
      "outputs": []
    },
    {
      "cell_type": "code",
      "execution_count": null,
      "metadata": {
        "id": "vcbpK8tLcwg5"
      },
      "outputs": [],
      "source": [
        "# 6 - Training and test data preparation\n",
        "merged_ipc = np.stack((ins_phase_c1,ins_phase_c2,ins_phase_c3,ins_phase_c4), axis=1)\n",
        "merged_ipc = np.swapaxes(merged_ipc, 1, 2)\n",
        "print(merged_ipc.shape)\n",
        "\n",
        "X_train = merged_ipc\n",
        "Y_train = merged[['Systolic', 'Diastolic']].to_numpy().astype('float32')\n",
        "X_train, X_test, Y_train, Y_test = train_test_split(X_train, Y_train, test_size=0.2, random_state=42) #random state - splits randomly (multiple splits)"
      ]
    },
    {
      "cell_type": "code",
      "execution_count": null,
      "metadata": {
        "id": "FptINej9cwg6"
      },
      "outputs": [],
      "source": [
        "# 7 - Model architecture\n",
        "\n",
        "input_shape =  (expected_sps, 4)\n",
        "model = Sequential()\n",
        "\n",
        "#first Conv layer\n",
        "model.add(Conv1D(filters=100, kernel_size=21, strides=1, input_shape=input_shape))\n",
        "model.add(BatchNormalization())\n",
        "model.add(tf.keras.layers.ReLU())\n",
        "model.add(MaxPooling1D(pool_size=2))\n",
        "\n",
        "#second Conv layer\n",
        "model.add(Conv1D(filters=200, kernel_size=5))\n",
        "model.add(BatchNormalization())\n",
        "model.add(tf.keras.layers.ReLU())\n",
        "model.add(MaxPooling1D(pool_size=2))\n",
        "\n",
        "#third Conv layer\n",
        "model.add(Conv1D(filters=300, kernel_size=5))\n",
        "model.add(BatchNormalization())\n",
        "model.add(tf.keras.layers.ReLU())\n",
        "model.add(MaxPooling1D(pool_size=2))\n",
        "\n",
        "#GlobalAveragePooling1D layer\n",
        "model.add(GlobalAveragePooling1D())\n",
        "#Final dense layer\n",
        "model.add(Dense(2, activation='linear'))"
      ]
    },
    {
      "cell_type": "code",
      "source": [
        "# 8 - Model training\n",
        "tf.keras.backend.clear_session()\n",
        "model.compile(loss=tf.keras.losses.mean_squared_error, optimizer=tf.keras.optimizers.Adam(learning_rate=0.001))\n",
        "model.summary()\n",
        "history = model.fit(X_train, Y_train, epochs=50, validation_data=(X_test, Y_test), batch_size=64)"
      ],
      "metadata": {
        "id": "RgBzj54Ct22M"
      },
      "execution_count": null,
      "outputs": []
    },
    {
      "cell_type": "code",
      "source": [
        "# 9 - Prediction and testing\n",
        "predictions = model.predict(X_test)\n",
        "combined = pd.DataFrame(predictions, columns=['Systolic(predicted)', 'Diastolic(predicted)'])\n",
        "combined[['Systolic(actual)', 'Diastolic(actual)']] = pd.DataFrame(Y_test, columns=['Systolic(actual)', 'Diastolic(actual)'])\n",
        "print(combined)"
      ],
      "metadata": {
        "id": "B_E1K7zsu0Ks"
      },
      "execution_count": null,
      "outputs": []
    },
    {
      "cell_type": "code",
      "source": [
        "# 10 - Plot - Loss\n",
        "plt.figure(figsize=(10, 6))\n",
        "# Training loss\n",
        "plt.plot(history.history['loss'], label='Training Loss', marker='o')\n",
        "# Validation loss\n",
        "plt.plot(history.history['val_loss'], label='Validation Loss', marker='o')\n",
        "# Adding labels and title\n",
        "plt.xlabel('Epochs')\n",
        "plt.ylabel('Loss')\n",
        "plt.title('Training Performance')\n",
        "plt.legend()\n",
        "\n",
        "# Adding grid for better readability\n",
        "plt.grid(True)\n",
        "# Show plot\n",
        "plt.show()"
      ],
      "metadata": {
        "id": "-3N6FAewvvkx"
      },
      "execution_count": null,
      "outputs": []
    },
    {
      "cell_type": "code",
      "source": [
        "# 11 - Plot - Compare predicted vs actual\n",
        "sample_indices = np.arange(len(combined))\n",
        "plt.figure(figsize=(70,10))\n",
        "# Plotting line graph for output 1\n",
        "plt.plot(sample_indices, combined['Systolic(actual)'], label='Systolic(actual)', linestyle='-', color='blue')\n",
        "plt.plot(sample_indices, combined['Systolic(predicted)'], label='Systolic(predicted)', linestyle='--', color='cyan')\n",
        "\n",
        "# Plotting line graph for output 2\n",
        "plt.plot(sample_indices, combined['Diastolic(actual)'], label='Diastolic(actual)', linestyle='-', color='green')\n",
        "plt.plot(sample_indices, combined['Diastolic(predicted)'], label='Diastolic(predicted)', linestyle='--', color='lime')\n",
        "\n",
        "# Set labels and title\n",
        "plt.xlabel('Sample Index')\n",
        "plt.ylabel('Output Values')\n",
        "plt.title('Comparison of Predicted and True Outputs')\n",
        "\n",
        "# Show legend\n",
        "plt.legend()\n",
        "\n",
        "# Show the plot\n",
        "plt.show()"
      ],
      "metadata": {
        "id": "HH8qTqmHvcGB"
      },
      "execution_count": null,
      "outputs": []
    },
    {
      "cell_type": "markdown",
      "source": [
        "End of the working code\n"
      ],
      "metadata": {
        "id": "hQUq-wAjtyja"
      }
    },
    {
      "cell_type": "code",
      "execution_count": null,
      "metadata": {
        "id": "1hhUS7k2cwg6"
      },
      "outputs": [],
      "source": [
        "predictions = model.predict(X_test)\n",
        "yf = pd.DataFrame(predictions, columns=['Systolic(predicted)', 'Diastolic(predicted)'])\n",
        "yf[['Systolic(actual)', 'Diastolic(actual)']] = pd.DataFrame(Y_test, columns=['Systolic(actual)', 'Diastolic(actual)'])\n",
        "yf"
      ]
    },
    {
      "cell_type": "code",
      "execution_count": null,
      "metadata": {
        "id": "rE_9osjlcwg6"
      },
      "outputs": [],
      "source": [
        "\n",
        "# Plotting training and validation loss\n"
      ]
    },
    {
      "cell_type": "code",
      "execution_count": null,
      "metadata": {
        "id": "KAzG_8y6cwg7"
      },
      "outputs": [],
      "source": []
    },
    {
      "cell_type": "code",
      "execution_count": null,
      "metadata": {
        "id": "f3seAZOqcwg5"
      },
      "outputs": [],
      "source": [
        "# 5 - Filtering - Butterworth band-pass filter\n",
        "filtered = pd.DataFrame()\n",
        "filtered['buttered_channel1'] = [butter_bandpass_filter(data, lowcut, highcut, fs, order=3) for data in interpolated['Channel1']]\n",
        "filtered['buttered_channel2'] = [butter_bandpass_filter(data, lowcut, highcut, fs, order=3) for data in interpolated['Channel2']]\n",
        "filtered['buttered_channel3'] = [butter_bandpass_filter(data, lowcut, highcut, fs, order=3) for data in interpolated['Channel3']]\n",
        "filtered['buttered_channel4'] = [butter_bandpass_filter(data, lowcut, highcut, fs, order=3) for data in interpolated['Channel4']]\n",
        "\n",
        "emd = EMD()\n",
        "imf1c1 = [] # intrensic mode function 1 for channel 1\n",
        "imf1c2 = [] # intrensic mode function 1 for channel 2\n",
        "imf1c3 = []\n",
        "imf1c4 = []\n",
        "\n",
        "for i in filtered['buttered_channel1']:\n",
        "    time = np.arange(0, len(i)) / fs/2\n",
        "    IMFs = emd.emd(i, time)\n",
        "    i1 = IMFs[0]\n",
        "    imf1c1.append(i1)\n",
        "\n",
        "for i in filtered['buttered_channel2']:\n",
        "    time = np.arange(0, len(i)) / fs\n",
        "    IMFs = emd.emd(i, time)\n",
        "    i1 = IMFs[0]\n",
        "    imf1c2.append(i1)\n",
        "\n",
        "for i in filtered['buttered_channel3']:\n",
        "    time = np.arange(0, len(i)) / fs\n",
        "    IMFs = emd.emd(i, time)\n",
        "    i1 = IMFs[0]\n",
        "    imf1c3.append(i1)\n",
        "\n",
        "for i in filtered['buttered_channel4']:\n",
        "    time = np.arange(0, len(i)) / fs\n",
        "    IMFs = emd.emd(i, time)\n",
        "    i1 = IMFs[0]\n",
        "    imf1c4.append(i1)\n",
        "\n",
        "# intrensic phase for channel 1,2,3,4\n",
        "ins_phase_c1 = []\n",
        "ins_phase_c2 = []\n",
        "ins_phase_c3 = []\n",
        "ins_phase_c4 = []\n",
        "\n",
        "for i in imf1c1:\n",
        "    ins_phase_c1.append(np.angle(hilbert(i)))\n",
        "\n",
        "for i in imf1c2:\n",
        "    ins_phase_c2.append(np.angle(hilbert(i)))\n",
        "\n",
        "for i in imf1c3:\n",
        "    ins_phase_c3.append(np.angle(hilbert(i)))\n",
        "\n",
        "for i in imf1c4:\n",
        "    ins_phase_c4.append(np.angle(hilbert(i)))"
      ]
    }
  ],
  "metadata": {
    "kernelspec": {
      "display_name": "bp",
      "language": "python",
      "name": "python3"
    },
    "language_info": {
      "codemirror_mode": {
        "name": "ipython",
        "version": 3
      },
      "file_extension": ".py",
      "mimetype": "text/x-python",
      "name": "python",
      "nbconvert_exporter": "python",
      "pygments_lexer": "ipython3",
      "version": "3.10.13"
    },
    "colab": {
      "provenance": [],
      "include_colab_link": true
    }
  },
  "nbformat": 4,
  "nbformat_minor": 0
}